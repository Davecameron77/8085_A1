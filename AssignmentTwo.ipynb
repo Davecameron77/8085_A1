{
 "cells": [
  {
   "cell_type": "markdown",
   "id": "76682c21-1b21-49c2-a482-3061cbb93697",
   "metadata": {},
   "source": [
    "# Imports"
   ]
  },
  {
   "cell_type": "code",
   "execution_count": 1,
   "id": "bb1ffbd5-8f30-42ff-be0b-bbf4e0d41704",
   "metadata": {},
   "outputs": [],
   "source": [
    "import string\n",
    "import numpy as np\n",
    "import pandas as pd\n",
    "import matplotlib.pyplot as plt\n",
    "import nltk\n",
    "from nltk.corpus import stopwords\n",
    "from nltk.sentiment import SentimentIntensityAnalyzer\n",
    "from sklearn.ensemble import RandomForestClassifier\n",
    "from sklearn.linear_model import LinearRegression\n",
    "from sklearn.model_selection import train_test_split\n",
    "from sklearn.naive_bayes import GaussianNB, MultinomialNB\n",
    "from sklearn.multioutput import MultiOutputRegressor, MultiOutputClassifier\n",
    "from sklearn.impute import SimpleImputer\n",
    "from sklearn.feature_extraction.text import TfidfVectorizer\n",
    "from sklearn.metrics import accuracy_score, classification_report, confusion_matrix, mean_squared_error, r2_score\n",
    "from sklearn.feature_extraction.text import CountVectorizer\n",
    "from textblob import Word\n",
    "from tqdm.notebook import tqdm"
   ]
  },
  {
   "cell_type": "markdown",
   "id": "d98e0271-b4a8-4e3b-b134-c91044a6ba15",
   "metadata": {},
   "source": [
    "## Load dataset"
   ]
  },
  {
   "cell_type": "code",
   "execution_count": 2,
   "id": "52efa773-1057-4c30-a5b5-bcd688670033",
   "metadata": {},
   "outputs": [],
   "source": [
    "# business = pd.read_json('yelp_academic_dataset_business.json', lines=True)\n",
    "# checkin = pd.read_json('yelp_academic_dataset_checkin.json', lines=True)\n",
    "# tip = pd.read_json('yelp_academic_dataset_tip.json', lines=True)\n",
    "# user = pd.read_json('yelp_academic_dataset_user.json', lines=True)\n",
    "\n",
    "df = pd.read_json('yelp_academic_dataset_review.json', lines=True, nrows=500000)"
   ]
  },
  {
   "cell_type": "markdown",
   "id": "5d995a67-a4ce-44cd-8460-a31931c1d565",
   "metadata": {},
   "source": [
    "## Setup Dataframe"
   ]
  },
  {
   "cell_type": "code",
   "execution_count": 3,
   "id": "50223167-d936-4d96-b751-6b22bc59ced3",
   "metadata": {},
   "outputs": [],
   "source": [
    "df = df[['text', 'stars', 'useful', 'funny', 'cool']]"
   ]
  },
  {
   "cell_type": "markdown",
   "id": "01338f11-c608-4f57-940f-aefc3c684eb6",
   "metadata": {},
   "source": [
    "## Pre Processing"
   ]
  },
  {
   "cell_type": "markdown",
   "id": "258ecf14-14e1-4290-8eb5-c21ef5c62f94",
   "metadata": {},
   "source": [
    "### Fill NA scores with 0"
   ]
  },
  {
   "cell_type": "code",
   "execution_count": 4,
   "id": "098856f1-58ae-47d6-95c9-285fd13d1ec7",
   "metadata": {},
   "outputs": [],
   "source": [
    "df = df.fillna(0)"
   ]
  },
  {
   "cell_type": "markdown",
   "id": "d596cce4-55f4-44bc-b333-65cc03dcf1b2",
   "metadata": {},
   "source": [
    "### Strip Punctuation"
   ]
  },
  {
   "cell_type": "code",
   "execution_count": 5,
   "id": "26e9e7a1-e6b7-4ff9-a61f-d9ff93ab3d17",
   "metadata": {},
   "outputs": [],
   "source": [
    "def remove_punctuation(text):\n",
    "    # Using string.punctuation to get all punctuation characters\n",
    "    translator = str.maketrans('', '', string.punctuation)\n",
    "    return text.translate(translator)"
   ]
  },
  {
   "cell_type": "code",
   "execution_count": 6,
   "id": "75481dd4-9936-40be-ac14-09f249467237",
   "metadata": {},
   "outputs": [],
   "source": [
    "df['text'] = df['text'].str.lower()\n",
    "df['text'] = df['text'].apply(remove_punctuation)"
   ]
  },
  {
   "cell_type": "markdown",
   "id": "8792988a-214a-4897-b016-4577090cc1c1",
   "metadata": {},
   "source": [
    "### Add metadata"
   ]
  },
  {
   "cell_type": "code",
   "execution_count": 7,
   "id": "7a307280-5b8b-4aa2-9162-4ef5573be4a5",
   "metadata": {},
   "outputs": [],
   "source": [
    "df['word_count'] = df['text'].apply(lambda x: len(x.split()))\n",
    "df['char_count'] = df['text'].apply(lambda x: len(x))"
   ]
  },
  {
   "cell_type": "markdown",
   "id": "c8e9ec31-7a65-4b17-9c8e-a73c89514a8f",
   "metadata": {},
   "source": [
    "### Stop words\n",
    "Stop words are words deemed to add little or no value to a review. i.e. 'and.'\n",
    "Stopwords are downloaded from nltk package."
   ]
  },
  {
   "cell_type": "code",
   "execution_count": 8,
   "id": "042d126a-ea25-4c1b-b702-57cf85eb9d39",
   "metadata": {},
   "outputs": [
    {
     "name": "stderr",
     "output_type": "stream",
     "text": [
      "[nltk_data] Downloading package stopwords to\n",
      "[nltk_data]     /Users/davecameron/nltk_data...\n",
      "[nltk_data]   Package stopwords is already up-to-date!\n"
     ]
    }
   ],
   "source": [
    "nltk.download('stopwords')\n",
    "stop_words = stopwords.words('english')\n",
    "df['stopword_count'] = df['text'].apply(lambda x: len([word for word in x.split() if word.lower() in stop_words]))\n",
    "df['stopword_rate'] = df['stopword_count'] / df['word_count']"
   ]
  },
  {
   "cell_type": "code",
   "execution_count": 9,
   "id": "4c4cba67-9f2e-4e55-babd-87e9b42a459d",
   "metadata": {},
   "outputs": [],
   "source": [
    "df['stopwords_removed'] = df['text'].apply(lambda x: \" \".join(word for word in x.split() if word not in stop_words))"
   ]
  },
  {
   "cell_type": "markdown",
   "id": "f2143e0f-6df8-474a-8a4b-1c0e404a208d",
   "metadata": {},
   "source": [
    "### Irrelevant words not in stop_words\n",
    "Looking for remaining words that might be considered stop words."
   ]
  },
  {
   "cell_type": "code",
   "execution_count": 10,
   "id": "1d5b80ba-3bf2-45e0-a76f-a7d3944e802e",
   "metadata": {},
   "outputs": [
    {
     "data": {
      "text/plain": [
       "food         262568\n",
       "good         242324\n",
       "place        233789\n",
       "great        227360\n",
       "service      162133\n",
       "like         154798\n",
       "time         153649\n",
       "get          148224\n",
       "one          148148\n",
       "back         140521\n",
       "would        136725\n",
       "go           123862\n",
       "really       118300\n",
       "also         107095\n",
       "us            96193\n",
       "got           94151\n",
       "nice          90478\n",
       "best          88098\n",
       "well          85383\n",
       "dont          84544\n",
       "even          84314\n",
       "staff         82029\n",
       "ordered       80244\n",
       "im            79501\n",
       "ive           78539\n",
       "friendly      76022\n",
       "order         75928\n",
       "love          75718\n",
       "always        74976\n",
       "delicious     74122\n",
       "Name: count, dtype: int64"
      ]
     },
     "execution_count": 10,
     "metadata": {},
     "output_type": "execute_result"
    }
   ],
   "source": [
    "pd.Series(\" \".join(df['stopwords_removed']).split()).value_counts()[:30]"
   ]
  },
  {
   "cell_type": "code",
   "execution_count": 13,
   "id": "020ce03e-b687-4431-864a-202418ceb040",
   "metadata": {},
   "outputs": [],
   "source": [
    "other_stop_words = ['get', 'would', 'got', 'us', 'also', 'even', 'ive', 'im']"
   ]
  },
  {
   "cell_type": "code",
   "execution_count": 14,
   "id": "b56845d7-8eec-444f-b18c-d4b1c532d3b4",
   "metadata": {},
   "outputs": [],
   "source": [
    "df['clean_reviews'] = df['stopwords_removed'].apply(lambda x: \" \".join(word for word in x.split() if word not in other_stop_words))"
   ]
  },
  {
   "cell_type": "markdown",
   "id": "c446b04d-5e76-4b2f-88f5-57c3375826af",
   "metadata": {},
   "source": [
    "### Lemmatization\n",
    "Lemmatization reduces words to their root. i.e. Running is deconjucated to run, etc."
   ]
  },
  {
   "cell_type": "code",
   "execution_count": 15,
   "id": "1c9a1ab9-a3fb-40e2-8f76-14641d1163b7",
   "metadata": {},
   "outputs": [],
   "source": [
    "df['lemmatized'] = df['clean_reviews'].apply(lambda x: \" \".join(Word(word).lemmatize() for word in x.split()))"
   ]
  },
  {
   "cell_type": "code",
   "execution_count": 16,
   "id": "eba0048d-7447-4015-9f0a-bbd28d537f9a",
   "metadata": {},
   "outputs": [],
   "source": [
    "df['clean_word_count'] = df['lemmatized'].apply(lambda x: len(x.split()))\n",
    "df['clean_rate'] = df['clean_word_count'] / df['word_count']"
   ]
  },
  {
   "cell_type": "markdown",
   "id": "f0206673-6c07-4c05-8371-74bc9f68d6d9",
   "metadata": {},
   "source": [
    "## Sentiment Analysis"
   ]
  },
  {
   "cell_type": "code",
   "execution_count": 17,
   "id": "3fd65c6e-dbd1-435d-ab81-7095f52c82f4",
   "metadata": {},
   "outputs": [],
   "source": [
    "from textblob import TextBlob"
   ]
  },
  {
   "cell_type": "code",
   "execution_count": 18,
   "id": "754e98f5-f1f1-4670-901b-091a8dd5c2c7",
   "metadata": {},
   "outputs": [],
   "source": [
    "df['polarity'] = df['lemmatized'].apply(lambda x: TextBlob(x).sentiment[0])\n",
    "df['subjectivity'] = df['lemmatized'].apply(lambda x: TextBlob(x).sentiment[1])"
   ]
  },
  {
   "cell_type": "code",
   "execution_count": 19,
   "id": "46ad7e04-f7a4-45f9-9637-a2212bceb139",
   "metadata": {},
   "outputs": [],
   "source": [
    "df.drop(['char_count','stopword_count', 'stopwords_removed', 'clean_reviews'], axis=1, inplace=True)"
   ]
  },
  {
   "cell_type": "code",
   "execution_count": 21,
   "id": "47fd04e2-966a-4384-8ff6-d0d1a1ca69cb",
   "metadata": {},
   "outputs": [],
   "source": [
    "sia = SentimentIntensityAnalyzer()"
   ]
  },
  {
   "cell_type": "code",
   "execution_count": 22,
   "id": "c7ee2f3d-5ac3-4fc4-97cc-98fb149abb8c",
   "metadata": {},
   "outputs": [
    {
     "data": {
      "application/vnd.jupyter.widget-view+json": {
       "model_id": "449097295f854d4f917acab60172c91e",
       "version_major": 2,
       "version_minor": 0
      },
      "text/plain": [
       "  0%|          | 0/500000 [00:00<?, ?it/s]"
      ]
     },
     "metadata": {},
     "output_type": "display_data"
    }
   ],
   "source": [
    "compound_polarity = {}\n",
    "negativity = {}\n",
    "for i, row in tqdm(df.iterrows(), total=len(df)):\n",
    "    negativity[i] = sia.polarity_scores(row['lemmatized'])['neg']\n",
    "    compound_polarity[i] = sia.polarity_scores(row['lemmatized'])['compound']"
   ]
  },
  {
   "cell_type": "code",
   "execution_count": 23,
   "id": "bfb03aef-4779-4a55-8241-03ec2b63b896",
   "metadata": {},
   "outputs": [],
   "source": [
    "cp = pd.Series(compound_polarity)\n",
    "neg = pd.Series(negativity)"
   ]
  },
  {
   "cell_type": "code",
   "execution_count": 24,
   "id": "c0659d7e-66dc-4958-8c4f-655a16506952",
   "metadata": {},
   "outputs": [],
   "source": [
    "df['compound_polarity'] = cp\n",
    "df['negativity'] = neg"
   ]
  },
  {
   "cell_type": "code",
   "execution_count": 25,
   "id": "2ac56287-7d7d-45bf-9977-c72adb1dd0bf",
   "metadata": {},
   "outputs": [],
   "source": [
    "conditions = [\n",
    "    (df['compound_polarity'] > 0.85),\n",
    "    (df['compound_polarity'] > 0.5),\n",
    "    (df['compound_polarity'] > 0),\n",
    "    (df['compound_polarity'] > -0.5)\n",
    "]\n",
    "choices = [5, 4, 3, 2]\n",
    "df['star_prediction'] = np.select(conditions, choices, default=0)"
   ]
  },
  {
   "cell_type": "code",
   "execution_count": 26,
   "id": "40345860-0878-4bad-a340-27d8dd8c9501",
   "metadata": {},
   "outputs": [
    {
     "data": {
      "application/vnd.jupyter.widget-view+json": {
       "model_id": "22261b523a7d43b0bc56afcc69e0438e",
       "version_major": 2,
       "version_minor": 0
      },
      "text/plain": [
       "  0%|          | 0/500000 [00:00<?, ?it/s]"
      ]
     },
     "metadata": {},
     "output_type": "display_data"
    },
    {
     "name": "stdout",
     "output_type": "stream",
     "text": [
      "Altered 283430 rows down and 66761 rows up\n"
     ]
    }
   ],
   "source": [
    "down = 0\n",
    "up = 0\n",
    "for i, row in tqdm(df.iterrows(), total=len(df)):\n",
    "    if row['negativity'] > 0.1 and row['star_prediction'] > 1.0:\n",
    "        row['star_prediction'] -= 1\n",
    "        down += 1\n",
    "    if row['polarity'] < 0.25 and row['star_prediction'] > 1.0:\n",
    "        row['star_prediction'] -= 1\n",
    "        down += 1\n",
    "    if row['negativity'] < 0.01 and row['star_prediction'] < 5.0:\n",
    "        row['star_prediction'] += 1\n",
    "        up += 1\n",
    "\n",
    "print(f'Altered {down} rows down and {up} rows up')"
   ]
  },
  {
   "cell_type": "code",
   "execution_count": 27,
   "id": "4353fa7c-d7c0-490a-84be-4815ec1e9571",
   "metadata": {},
   "outputs": [],
   "source": [
    "df['delta'] = abs(df['stars'] - df['star_prediction'])"
   ]
  },
  {
   "cell_type": "code",
   "execution_count": 28,
   "id": "5f8ded23-e866-4d42-a43c-ad66ac20b143",
   "metadata": {},
   "outputs": [
    {
     "data": {
      "text/plain": [
       "count    500000.000000\n",
       "mean          0.892518\n",
       "std           0.996385\n",
       "min           0.000000\n",
       "25%           0.000000\n",
       "50%           1.000000\n",
       "75%           1.000000\n",
       "max           5.000000\n",
       "Name: delta, dtype: float64"
      ]
     },
     "execution_count": 28,
     "metadata": {},
     "output_type": "execute_result"
    }
   ],
   "source": [
    "df.describe()['delta']"
   ]
  },
  {
   "cell_type": "code",
   "execution_count": 29,
   "id": "11aeb123-dd98-4ba6-85fc-b8f0ddc59515",
   "metadata": {},
   "outputs": [
    {
     "data": {
      "text/plain": [
       "delta\n",
       "0    211470\n",
       "1    183861\n",
       "2     63894\n",
       "3     29629\n",
       "4     10007\n",
       "5      1139\n",
       "Name: count, dtype: int64"
      ]
     },
     "execution_count": 29,
     "metadata": {},
     "output_type": "execute_result"
    }
   ],
   "source": [
    "df['delta'].value_counts()"
   ]
  },
  {
   "cell_type": "code",
   "execution_count": 184,
   "id": "961ecb1c-ad48-4240-9820-06cce6fc38b6",
   "metadata": {},
   "outputs": [
    {
     "name": "stdout",
     "output_type": "stream",
     "text": [
      "19 5 star misses made\n"
     ]
    }
   ],
   "source": [
    "pd.set_option('display.max_colwidth', None)\n",
    "mask = df['delta'].isin([5])\n",
    "bad_preds = df[mask]\n",
    "print(f'{len(bad_preds)} 5 star misses made')"
   ]
  },
  {
   "cell_type": "code",
   "execution_count": 195,
   "id": "44aefc73-b97c-4551-a013-3ef495a3a99e",
   "metadata": {},
   "outputs": [
    {
     "data": {
      "text/html": [
       "<div>\n",
       "<style scoped>\n",
       "    .dataframe tbody tr th:only-of-type {\n",
       "        vertical-align: middle;\n",
       "    }\n",
       "\n",
       "    .dataframe tbody tr th {\n",
       "        vertical-align: top;\n",
       "    }\n",
       "\n",
       "    .dataframe thead th {\n",
       "        text-align: right;\n",
       "    }\n",
       "</style>\n",
       "<table border=\"1\" class=\"dataframe\">\n",
       "  <thead>\n",
       "    <tr style=\"text-align: right;\">\n",
       "      <th></th>\n",
       "      <th>text</th>\n",
       "      <th>polarity</th>\n",
       "      <th>compound_polarity</th>\n",
       "      <th>negativity</th>\n",
       "      <th>stars</th>\n",
       "      <th>star_prediction</th>\n",
       "    </tr>\n",
       "  </thead>\n",
       "  <tbody>\n",
       "    <tr>\n",
       "      <th>47</th>\n",
       "      <td>if you want to pay for everything a la carte this is the place for you  \\nfood wasnt terrible not impressive\\nthey brought a basket of chips and some tomato sauce which i asked politely for something spicier and some pico de gallo  she brought them happily to me and the salsa was much better  when asked what we would like to drink i asked for a coke and she brought out a bottle which i stated i wanted the fountain drink  she said oh thats only pepsi  never mentioned that they only had bottle drinks for coke  \\nwe ordered our food which was reasonably priced asked for sour cream and also to put cheese on the taco  she let us know cheese was extra  \\nit was 250 extra for another basket of chips  \\nwhen i received the bill we paid more for the condiments then the actual food  side of sour cream 200 pico de gallo 250 salsa 200 chips 250 cheese 100 and the bottled coke that we didnt want 500  \\njust a suggestionwhen you order anything make sure to ask if there is an extra charge</td>\n",
       "      <td>0.141667</td>\n",
       "      <td>0.8847</td>\n",
       "      <td>0.037</td>\n",
       "      <td>1</td>\n",
       "      <td>5</td>\n",
       "    </tr>\n",
       "    <tr>\n",
       "      <th>122</th>\n",
       "      <td>we stayed at the saint last year for a girls trip the lobby is lovely they have a cool bar and restaurant that you cant help but to ohh and ahh over when you walk in  all the things im accustomed too when i stay at a hotel anywhereambiance a little sexy but not overkill everyone is so friendly etc  im thinking oh shhhh this is going to be a great weekend  i checked in a few hours before my girl arrived because i had a ton of work i needed to do so i set up my laptop ordered some room service and worked for about 4 hours straight left out to buy a bottle and get a manipedi  my girl arrivesits about to be some trouble in nola the two of us and no supervisionwe pop out for dinner come back in giggling as usual and we see ita hugh flying roach  im freaked out  i literally walk right out of the room down to the front desk  i cannot they tell me theyre sending a maintenance worker to handle it  not good enough if theres one thats bold enough to show itself he has other cohorts that prefer to live behind the scenes they give us another room but tell me they cant do more until 8am  no the room the move us too also has small spiders and other dead small bugs in the corners of the window the tv doesnt work and one of the lamps doesnt have bulbs in it come on  at this point its about 3am and i know im not staying here past 815am i dont want to sit my purse let alone my luggage in this hotel i go online to my normal go to hotel the w and book us there for the rest of the trip 8am comes and goes no manager comes to our room i go down and demand to see someone immediately  this younger gentlemen comes out and apologizes  i thank him for his apology and politely request all of my money back immediately   he obliged and asked if  i would consider coming back after changes have been made bless his heart no dear</td>\n",
       "      <td>0.086774</td>\n",
       "      <td>0.9679</td>\n",
       "      <td>0.078</td>\n",
       "      <td>1</td>\n",
       "      <td>5</td>\n",
       "    </tr>\n",
       "    <tr>\n",
       "      <th>165</th>\n",
       "      <td>came here after my husband bought home their lemon pepper wings they have plenty of flavors ranging from ones youve heard of lemon pepper mild to new orleans flavors yaka mein noonie bird they also have their drinks the watermelon is to die for i dont know what they put in it but lord help them the location isnt the best but theyre trying to put something back in the community its in the same section with the daiquiri shop so its really not that bad during the day i probably wouldnt come at night by myself definitely give this place a try hey you might even see skip</td>\n",
       "      <td>0.128283</td>\n",
       "      <td>-0.8914</td>\n",
       "      <td>0.193</td>\n",
       "      <td>4</td>\n",
       "      <td>0</td>\n",
       "    </tr>\n",
       "    <tr>\n",
       "      <th>347</th>\n",
       "      <td>dinner review\\n\\ni rarely write reviews but this honestly was one of the worst group dining experiences ive ever had it was objectively a horrible experience even without comparing it to the hype it receives and ruined what was supposed to be a nice birthday dinner celebration \\n\\nwe had a group of 8 that had a reservation made well in advance short wait but not too bad keep in mind it seemed like a normal friday night but werent super busy or atcapacity\\n\\nit was a birthday dinner so i told the hostesses that it was her birthday and asked if they could bring out something for her at the end of the meal which was acknowledged pretty standard stuff whether at a applebees or the french laundry we were sat at a booth right next to the maitre d stand and next to all the wait staffs home base so pretty much no excuse for not getting any attention \\n\\nafter getting us waters it took them a long time to even come by and acknowledge us after ordering wine it took them another good 1520 minutes to even bring us our wine and no one even checked in on us hint if youre running a restaurant wine is your profit center and doesnt take any work other than taking a bottle off a shelf and opening it bring it out asap \\n\\nafter ordering food it was more of the samea long wait for food to start coming out and no one checking in on us at all we drank the bottles we ordered and had to get up and flag someone down to get another wine order a couple of us even got up during the meal to remind them to bring out something for birthday girl at the end of the meal \\n\\nonce our meal was done and taken away we were given dessert menus and the server disappeared for 1015 minutes again after coming back he asked what dessert we wanted so we ordered some coffees and waited and waited eventually we got up and asked him what was going on and if they were going to bring anything out like we asked multiple times \\n\\nthey finally brought out a couple of cookies with a candle\\n\\nin summary the food was pretty hit or miss pretty mediocre for this price point whipped feta like other reviews have said was amazing and the braised lamb was really good but the sirloin was chewy and bland and the grilled caesar tasted like a soggy lukewarm wilted mess two orders were left untouched by a group of 8 atmosphere was nice and trendy but the service which is a huge reason to spend your hardearned  at a restaurant was absolutely horrendous \\n\\ni really love going to cool popular restaurants and having a great time and i hate writing such a negative review but i had to share my experience especially for a restaurant that is getting an awful lot of undeserved hype</td>\n",
       "      <td>0.051646</td>\n",
       "      <td>0.9609</td>\n",
       "      <td>0.131</td>\n",
       "      <td>1</td>\n",
       "      <td>5</td>\n",
       "    </tr>\n",
       "    <tr>\n",
       "      <th>387</th>\n",
       "      <td>new owners turned it into a double threat bad food and bad service shame i loved this place</td>\n",
       "      <td>-0.112727</td>\n",
       "      <td>-0.8625</td>\n",
       "      <td>0.553</td>\n",
       "      <td>4</td>\n",
       "      <td>0</td>\n",
       "    </tr>\n",
       "    <tr>\n",
       "      <th>...</th>\n",
       "      <td>...</td>\n",
       "      <td>...</td>\n",
       "      <td>...</td>\n",
       "      <td>...</td>\n",
       "      <td>...</td>\n",
       "      <td>...</td>\n",
       "    </tr>\n",
       "    <tr>\n",
       "      <th>9703</th>\n",
       "      <td>my name is angela s and i have a froyo problem no really i dont even like it that much yet i continue to go to all of these stupid frozen yogurt joints like some dairycrazed masochist and eat 417 worth of disappointment at a time \\n\\nand then came tutti frutti \\n\\nits good its a little different the toppings are just soso but the yogurt itself is really good they have interesting flavors including taro if you havent tried something taro flavored tutti frutti is a good place to start it doesnt even need toppings \\n\\nwith so many froyo places in stl its rare that ive visited the same one twice but tutti frutti could become a standby</td>\n",
       "      <td>0.193269</td>\n",
       "      <td>-0.5103</td>\n",
       "      <td>0.202</td>\n",
       "      <td>4</td>\n",
       "      <td>0</td>\n",
       "    </tr>\n",
       "    <tr>\n",
       "      <th>9748</th>\n",
       "      <td>what miserable customer service \\n\\nwe went here as part of a special event for families of autistic children while i commend the owners for reaching out to people with special needs the way they handle themselves behind the counter is sickening \\n\\nwhen we got there we found out that the entire inside of the park was closed something that was not mentioned anywhere in their press release not on their own website either despite their insistence that it was so all the autistic kids were confined to a wave pool and two smaller areas which was far from adequate for this particular crowd  when i complained to the manager dan he was clearly overwhelmed by the situation and had no answers to give regarding why it was never stated that most of the facility was off limits but at least he was polite unlike brandon \\n\\nbrandon another assistant manager interjected himself unasked in our conversation and interrupted me at every sentence i guess if the customer cant finish a sentence it doesnt count as a complaint even when i asked him to let me speak he kept talking over me great managerial technique there \\n\\nhe offered to refund our tickets but only if we left right then while we had no problem leaving there were a lot of families whose children took a lot effort to move either because of physical or developmental disabilities had either of them offered refunds at our leisure as a sign of good faith we would have stayed and spent more than the cost of the tickets on the insanely over priced food 12 for a basket of chicken fingers is utterly ridiculous plus guaranteed our return another time as it is theyve lost our business permanently \\n\\nif you choose to go here i hope you have fun just dont go expecting resolutions to any problems you might have because apparently they dont know the first thing about customer service</td>\n",
       "      <td>-0.066667</td>\n",
       "      <td>0.8859</td>\n",
       "      <td>0.116</td>\n",
       "      <td>1</td>\n",
       "      <td>5</td>\n",
       "    </tr>\n",
       "    <tr>\n",
       "      <th>9845</th>\n",
       "      <td>i know that pi is a popular place and that it gets packed in the loop especially on friday and saturday nights  since they dont take reservations for 2 people and being the smart yelper that i am i called first to check on the wait  they said that by the time i came in there would be no wait especially because the concert at the pageant was about to start  so the bf and i headed down there 10 min later and he dropped me off so i wouldnt have to walk in the cold what a gentleman  i walked in and the snooty hostesses told me there was a 40 min wait  um there is no way all of those people just showed up in 10 min  clearly someone fudged the truth to get me to come in  and there wasnt a single seat or place to stand in the bar or the tiny waiting area  i tried to call him to tell him not to park and walk down he would probably have to walk pretty far but he wasnt paying attention to his phone so he never got the message   he walked in took one look and i knew we were both on the same page  i politely told the hostesses that they could cross off our name and then waited by the door while he pulled the car around  they proceeded to stare at me very obviously and whisper during this time until i left which  is bad business whether youre a catty hostess that still thinks she is in high school or maybe still is or a hostess raving about how fabulous my outfit is  either way girls its rude\\n\\ndont get me wrongthe pizza here is good  but its no mystic pizza  and it isnt the only pizza place around  this story has a happy ending though  we went to deweys were promptly seated experienced the best service there as we always do and left with full bellies probably way before we wouldve even gotten our pizza at pi \\n\\nnever again</td>\n",
       "      <td>0.162114</td>\n",
       "      <td>0.9441</td>\n",
       "      <td>0.050</td>\n",
       "      <td>1</td>\n",
       "      <td>5</td>\n",
       "    </tr>\n",
       "    <tr>\n",
       "      <th>9853</th>\n",
       "      <td>im not sure what happened here but this place went downhill fast i just had a pizza steak and chicken parm sandwich that were a step above edible seriously im still trying to get the taste of the pizza steak out of my mouth the only thing worse than being excited for a steak sandwich and having it suck is being excited for wings and having them forget to send the damn blue cheese really come on i can honestly say that based on this experience i would never go back \\n\\nfirst review great food and friendly service we had an italian hoagie and cheesesteak hoagie and hot wings all were fantastic the rolls are soft and fresh they were full of delicious meat the wings were large and the hot sauce is the best ive had in the area ill be back for sure</td>\n",
       "      <td>0.229850</td>\n",
       "      <td>0.9622</td>\n",
       "      <td>0.148</td>\n",
       "      <td>1</td>\n",
       "      <td>5</td>\n",
       "    </tr>\n",
       "    <tr>\n",
       "      <th>9924</th>\n",
       "      <td>my girlfriend and i decided to try kalamatas last night at around 730 the guy at the counter asked us if were ready to order even before we had the chance to look at the menu properly not once but multiple times \\n\\nwe ordered 2 lamb gyros a side order of roasted potatoes and the tabouleh the potatoes came out extremely fast and were lukewarm at best either they were premade and microwaved to order or were just sitting on a hot plate not something id expect from any restaurant \\n\\nthe tabouleh was sour  like salad dunked in a bottle of fish sauce sour we decided to tell the guy upfront our issues with the tabouleh but all we got out of him was this is our recipe this is the way we make it its fine if you dont like it but this is how we make it i agree i have no idea what authentic tabouleh tastes like or how to make it but i have tasted good tabouleh in the past and this was far from it i pity the people whove eaten tabouleh only at this establishment because theyre really missing out \\n\\nthe gyros were pedestrian at best underseasoned and most of all undersauced the veggies were on one side of the pita the meat on the other  so youd never get a mouthful of veggiesmeat and only one side of the pocket had the sauce suspecting another this is how we sauce our gyros this is our recipe moment we decided to finish our food asap\\n\\nfinally the worst offense was that the guy starts closing up shop while were still eating really ive no idea how this place got 4 stars on yelp but there are way better restaurants in nashville for mediterranean food</td>\n",
       "      <td>0.169298</td>\n",
       "      <td>0.8891</td>\n",
       "      <td>0.109</td>\n",
       "      <td>1</td>\n",
       "      <td>5</td>\n",
       "    </tr>\n",
       "  </tbody>\n",
       "</table>\n",
       "<p>191 rows × 6 columns</p>\n",
       "</div>"
      ],
      "text/plain": [
       "                                                                                                                                                                                                                                                                                                                                                                                                                                                                                                                                                                                                                                                                                                                                                                                                                                                                                                                                                                                                                                                                                                                                                                                                                                                                                                                                                                                                                                                                                                                                                                                                                                                                                                                                                                                                                                                                                                                                                                                                                                                                                                                                                                                                                                                                                                                                                                                                                                                                                                                                                                                                                                                                                                                                                                   text  \\\n",
       "47                                                                                                                                                                                                                                                                                                                                                                                                                                                                                                                                                                                                                                                                                                                                                                                                                                                                                                                                                                                                                                                                                                                                                                                                                                                                                                                                                                                                                                                                                                                                                                                                                                                                                                                                         if you want to pay for everything a la carte this is the place for you  \\nfood wasnt terrible not impressive\\nthey brought a basket of chips and some tomato sauce which i asked politely for something spicier and some pico de gallo  she brought them happily to me and the salsa was much better  when asked what we would like to drink i asked for a coke and she brought out a bottle which i stated i wanted the fountain drink  she said oh thats only pepsi  never mentioned that they only had bottle drinks for coke  \\nwe ordered our food which was reasonably priced asked for sour cream and also to put cheese on the taco  she let us know cheese was extra  \\nit was 250 extra for another basket of chips  \\nwhen i received the bill we paid more for the condiments then the actual food  side of sour cream 200 pico de gallo 250 salsa 200 chips 250 cheese 100 and the bottled coke that we didnt want 500  \\njust a suggestionwhen you order anything make sure to ask if there is an extra charge   \n",
       "122                                                                                                                                                                                                                                                                                                                                                                                                                                                                                                                                                                                                                                                                                                                                                                                                                                                                   we stayed at the saint last year for a girls trip the lobby is lovely they have a cool bar and restaurant that you cant help but to ohh and ahh over when you walk in  all the things im accustomed too when i stay at a hotel anywhereambiance a little sexy but not overkill everyone is so friendly etc  im thinking oh shhhh this is going to be a great weekend  i checked in a few hours before my girl arrived because i had a ton of work i needed to do so i set up my laptop ordered some room service and worked for about 4 hours straight left out to buy a bottle and get a manipedi  my girl arrivesits about to be some trouble in nola the two of us and no supervisionwe pop out for dinner come back in giggling as usual and we see ita hugh flying roach  im freaked out  i literally walk right out of the room down to the front desk  i cannot they tell me theyre sending a maintenance worker to handle it  not good enough if theres one thats bold enough to show itself he has other cohorts that prefer to live behind the scenes they give us another room but tell me they cant do more until 8am  no the room the move us too also has small spiders and other dead small bugs in the corners of the window the tv doesnt work and one of the lamps doesnt have bulbs in it come on  at this point its about 3am and i know im not staying here past 815am i dont want to sit my purse let alone my luggage in this hotel i go online to my normal go to hotel the w and book us there for the rest of the trip 8am comes and goes no manager comes to our room i go down and demand to see someone immediately  this younger gentlemen comes out and apologizes  i thank him for his apology and politely request all of my money back immediately   he obliged and asked if  i would consider coming back after changes have been made bless his heart no dear   \n",
       "165                                                                                                                                                                                                                                                                                                                                                                                                                                                                                                                                                                                                                                                                                                                                                                                                                                                                                                                                                                                                                                                                                                                                                                                                                                                                                                                                                                                                                                                                                                                                                                                                                                                                                                                                                                                                                                                                                                                                                                                                                                                                                                                                                                        came here after my husband bought home their lemon pepper wings they have plenty of flavors ranging from ones youve heard of lemon pepper mild to new orleans flavors yaka mein noonie bird they also have their drinks the watermelon is to die for i dont know what they put in it but lord help them the location isnt the best but theyre trying to put something back in the community its in the same section with the daiquiri shop so its really not that bad during the day i probably wouldnt come at night by myself definitely give this place a try hey you might even see skip   \n",
       "347   dinner review\\n\\ni rarely write reviews but this honestly was one of the worst group dining experiences ive ever had it was objectively a horrible experience even without comparing it to the hype it receives and ruined what was supposed to be a nice birthday dinner celebration \\n\\nwe had a group of 8 that had a reservation made well in advance short wait but not too bad keep in mind it seemed like a normal friday night but werent super busy or atcapacity\\n\\nit was a birthday dinner so i told the hostesses that it was her birthday and asked if they could bring out something for her at the end of the meal which was acknowledged pretty standard stuff whether at a applebees or the french laundry we were sat at a booth right next to the maitre d stand and next to all the wait staffs home base so pretty much no excuse for not getting any attention \\n\\nafter getting us waters it took them a long time to even come by and acknowledge us after ordering wine it took them another good 1520 minutes to even bring us our wine and no one even checked in on us hint if youre running a restaurant wine is your profit center and doesnt take any work other than taking a bottle off a shelf and opening it bring it out asap \\n\\nafter ordering food it was more of the samea long wait for food to start coming out and no one checking in on us at all we drank the bottles we ordered and had to get up and flag someone down to get another wine order a couple of us even got up during the meal to remind them to bring out something for birthday girl at the end of the meal \\n\\nonce our meal was done and taken away we were given dessert menus and the server disappeared for 1015 minutes again after coming back he asked what dessert we wanted so we ordered some coffees and waited and waited eventually we got up and asked him what was going on and if they were going to bring anything out like we asked multiple times \\n\\nthey finally brought out a couple of cookies with a candle\\n\\nin summary the food was pretty hit or miss pretty mediocre for this price point whipped feta like other reviews have said was amazing and the braised lamb was really good but the sirloin was chewy and bland and the grilled caesar tasted like a soggy lukewarm wilted mess two orders were left untouched by a group of 8 atmosphere was nice and trendy but the service which is a huge reason to spend your hardearned  at a restaurant was absolutely horrendous \\n\\ni really love going to cool popular restaurants and having a great time and i hate writing such a negative review but i had to share my experience especially for a restaurant that is getting an awful lot of undeserved hype   \n",
       "387                                                                                                                                                                                                                                                                                                                                                                                                                                                                                                                                                                                                                                                                                                                                                                                                                                                                                                                                                                                                                                                                                                                                                                                                                                                                                                                                                                                                                                                                                                                                                                                                                                                                                                                                                                                                                                                                                                                                                                                                                                                                                                                                                                                                                                                                                                                                                                                                                                                                                                                                                                                                                                                                         new owners turned it into a double threat bad food and bad service shame i loved this place   \n",
       "...                                                                                                                                                                                                                                                                                                                                                                                                                                                                                                                                                                                                                                                                                                                                                                                                                                                                                                                                                                                                                                                                                                                                                                                                                                                                                                                                                                                                                                                                                                                                                                                                                                                                                                                                                                                                                                                                                                                                                                                                                                                                                                                                                                                                                                                                                                                                                                                                                                                                                                                                                                                                                                                                                                                                                                 ...   \n",
       "9703                                                                                                                                                                                                                                                                                                                                                                                                                                                                                                                                                                                                                                                                                                                                                                                                                                                                                                                                                                                                                                                                                                                                                                                                                                                                                                                                                                                                                                                                                                                                                                                                                                                                                                                                                                                                                                                                                                                                                                                                                                                                                                     my name is angela s and i have a froyo problem no really i dont even like it that much yet i continue to go to all of these stupid frozen yogurt joints like some dairycrazed masochist and eat 417 worth of disappointment at a time \\n\\nand then came tutti frutti \\n\\nits good its a little different the toppings are just soso but the yogurt itself is really good they have interesting flavors including taro if you havent tried something taro flavored tutti frutti is a good place to start it doesnt even need toppings \\n\\nwith so many froyo places in stl its rare that ive visited the same one twice but tutti frutti could become a standby   \n",
       "9748                                                                                                                                                                                                                                                                                                                                                                                                                                                                                                                                                                                                                                                                                                                                                                                                                                                 what miserable customer service \\n\\nwe went here as part of a special event for families of autistic children while i commend the owners for reaching out to people with special needs the way they handle themselves behind the counter is sickening \\n\\nwhen we got there we found out that the entire inside of the park was closed something that was not mentioned anywhere in their press release not on their own website either despite their insistence that it was so all the autistic kids were confined to a wave pool and two smaller areas which was far from adequate for this particular crowd  when i complained to the manager dan he was clearly overwhelmed by the situation and had no answers to give regarding why it was never stated that most of the facility was off limits but at least he was polite unlike brandon \\n\\nbrandon another assistant manager interjected himself unasked in our conversation and interrupted me at every sentence i guess if the customer cant finish a sentence it doesnt count as a complaint even when i asked him to let me speak he kept talking over me great managerial technique there \\n\\nhe offered to refund our tickets but only if we left right then while we had no problem leaving there were a lot of families whose children took a lot effort to move either because of physical or developmental disabilities had either of them offered refunds at our leisure as a sign of good faith we would have stayed and spent more than the cost of the tickets on the insanely over priced food 12 for a basket of chicken fingers is utterly ridiculous plus guaranteed our return another time as it is theyve lost our business permanently \\n\\nif you choose to go here i hope you have fun just dont go expecting resolutions to any problems you might have because apparently they dont know the first thing about customer service   \n",
       "9845                                                                                                                                                                                                                                                                                                                                                                                                                                                                                                                                                                                                                                                                                                                                                                                                                                                                                                                                                     i know that pi is a popular place and that it gets packed in the loop especially on friday and saturday nights  since they dont take reservations for 2 people and being the smart yelper that i am i called first to check on the wait  they said that by the time i came in there would be no wait especially because the concert at the pageant was about to start  so the bf and i headed down there 10 min later and he dropped me off so i wouldnt have to walk in the cold what a gentleman  i walked in and the snooty hostesses told me there was a 40 min wait  um there is no way all of those people just showed up in 10 min  clearly someone fudged the truth to get me to come in  and there wasnt a single seat or place to stand in the bar or the tiny waiting area  i tried to call him to tell him not to park and walk down he would probably have to walk pretty far but he wasnt paying attention to his phone so he never got the message   he walked in took one look and i knew we were both on the same page  i politely told the hostesses that they could cross off our name and then waited by the door while he pulled the car around  they proceeded to stare at me very obviously and whisper during this time until i left which  is bad business whether youre a catty hostess that still thinks she is in high school or maybe still is or a hostess raving about how fabulous my outfit is  either way girls its rude\\n\\ndont get me wrongthe pizza here is good  but its no mystic pizza  and it isnt the only pizza place around  this story has a happy ending though  we went to deweys were promptly seated experienced the best service there as we always do and left with full bellies probably way before we wouldve even gotten our pizza at pi \\n\\nnever again   \n",
       "9853                                                                                                                                                                                                                                                                                                                                                                                                                                                                                                                                                                                                                                                                                                                                                                                                                                                                                                                                                                                                                                                                                                                                                                                                                                                                                                                                                                                                                                                                                                                                                                                                                                                                                                                                                                                                                                                                                                                                                                                   im not sure what happened here but this place went downhill fast i just had a pizza steak and chicken parm sandwich that were a step above edible seriously im still trying to get the taste of the pizza steak out of my mouth the only thing worse than being excited for a steak sandwich and having it suck is being excited for wings and having them forget to send the damn blue cheese really come on i can honestly say that based on this experience i would never go back \\n\\nfirst review great food and friendly service we had an italian hoagie and cheesesteak hoagie and hot wings all were fantastic the rolls are soft and fresh they were full of delicious meat the wings were large and the hot sauce is the best ive had in the area ill be back for sure   \n",
       "9924                                                                                                                                                                                                                                                                                                                                                                                                                                                                                                                                                                                                                                                                                                                                                                                                                                                                                                                                                                                                                                                                                                                                       my girlfriend and i decided to try kalamatas last night at around 730 the guy at the counter asked us if were ready to order even before we had the chance to look at the menu properly not once but multiple times \\n\\nwe ordered 2 lamb gyros a side order of roasted potatoes and the tabouleh the potatoes came out extremely fast and were lukewarm at best either they were premade and microwaved to order or were just sitting on a hot plate not something id expect from any restaurant \\n\\nthe tabouleh was sour  like salad dunked in a bottle of fish sauce sour we decided to tell the guy upfront our issues with the tabouleh but all we got out of him was this is our recipe this is the way we make it its fine if you dont like it but this is how we make it i agree i have no idea what authentic tabouleh tastes like or how to make it but i have tasted good tabouleh in the past and this was far from it i pity the people whove eaten tabouleh only at this establishment because theyre really missing out \\n\\nthe gyros were pedestrian at best underseasoned and most of all undersauced the veggies were on one side of the pita the meat on the other  so youd never get a mouthful of veggiesmeat and only one side of the pocket had the sauce suspecting another this is how we sauce our gyros this is our recipe moment we decided to finish our food asap\\n\\nfinally the worst offense was that the guy starts closing up shop while were still eating really ive no idea how this place got 4 stars on yelp but there are way better restaurants in nashville for mediterranean food   \n",
       "\n",
       "      polarity  compound_polarity  negativity  stars  star_prediction  \n",
       "47    0.141667             0.8847       0.037      1                5  \n",
       "122   0.086774             0.9679       0.078      1                5  \n",
       "165   0.128283            -0.8914       0.193      4                0  \n",
       "347   0.051646             0.9609       0.131      1                5  \n",
       "387  -0.112727            -0.8625       0.553      4                0  \n",
       "...        ...                ...         ...    ...              ...  \n",
       "9703  0.193269            -0.5103       0.202      4                0  \n",
       "9748 -0.066667             0.8859       0.116      1                5  \n",
       "9845  0.162114             0.9441       0.050      1                5  \n",
       "9853  0.229850             0.9622       0.148      1                5  \n",
       "9924  0.169298             0.8891       0.109      1                5  \n",
       "\n",
       "[191 rows x 6 columns]"
      ]
     },
     "execution_count": 195,
     "metadata": {},
     "output_type": "execute_result"
    }
   ],
   "source": [
    "bad_preds[['text', 'polarity', 'compound_polarity', 'negativity', 'stars', 'star_prediction']]"
   ]
  },
  {
   "cell_type": "code",
   "execution_count": 186,
   "id": "b019c2a0-0879-4721-b610-1131a88641d3",
   "metadata": {},
   "outputs": [
    {
     "name": "stdout",
     "output_type": "stream",
     "text": [
      "191 4 star misses made\n"
     ]
    }
   ],
   "source": [
    "mask = df['delta'].isin([4])\n",
    "bad_preds = df[mask]\n",
    "print(f'{len(bad_preds)} 4 star misses made')"
   ]
  },
  {
   "cell_type": "code",
   "execution_count": 187,
   "id": "1281b894-9626-4c62-b831-2c38c947bece",
   "metadata": {},
   "outputs": [
    {
     "data": {
      "text/html": [
       "<div>\n",
       "<style scoped>\n",
       "    .dataframe tbody tr th:only-of-type {\n",
       "        vertical-align: middle;\n",
       "    }\n",
       "\n",
       "    .dataframe tbody tr th {\n",
       "        vertical-align: top;\n",
       "    }\n",
       "\n",
       "    .dataframe thead th {\n",
       "        text-align: right;\n",
       "    }\n",
       "</style>\n",
       "<table border=\"1\" class=\"dataframe\">\n",
       "  <thead>\n",
       "    <tr style=\"text-align: right;\">\n",
       "      <th></th>\n",
       "      <th>text</th>\n",
       "      <th>compound_polarity</th>\n",
       "      <th>negativity</th>\n",
       "      <th>stars</th>\n",
       "      <th>star_prediction</th>\n",
       "    </tr>\n",
       "  </thead>\n",
       "  <tbody>\n",
       "    <tr>\n",
       "      <th>47</th>\n",
       "      <td>if you want to pay for everything a la carte this is the place for you  \\nfood wasnt terrible not impressive\\nthey brought a basket of chips and some tomato sauce which i asked politely for something spicier and some pico de gallo  she brought them happily to me and the salsa was much better  when asked what we would like to drink i asked for a coke and she brought out a bottle which i stated i wanted the fountain drink  she said oh thats only pepsi  never mentioned that they only had bottle drinks for coke  \\nwe ordered our food which was reasonably priced asked for sour cream and also to put cheese on the taco  she let us know cheese was extra  \\nit was 250 extra for another basket of chips  \\nwhen i received the bill we paid more for the condiments then the actual food  side of sour cream 200 pico de gallo 250 salsa 200 chips 250 cheese 100 and the bottled coke that we didnt want 500  \\njust a suggestionwhen you order anything make sure to ask if there is an extra charge</td>\n",
       "      <td>0.8847</td>\n",
       "      <td>0.037</td>\n",
       "      <td>1</td>\n",
       "      <td>5</td>\n",
       "    </tr>\n",
       "    <tr>\n",
       "      <th>122</th>\n",
       "      <td>we stayed at the saint last year for a girls trip the lobby is lovely they have a cool bar and restaurant that you cant help but to ohh and ahh over when you walk in  all the things im accustomed too when i stay at a hotel anywhereambiance a little sexy but not overkill everyone is so friendly etc  im thinking oh shhhh this is going to be a great weekend  i checked in a few hours before my girl arrived because i had a ton of work i needed to do so i set up my laptop ordered some room service and worked for about 4 hours straight left out to buy a bottle and get a manipedi  my girl arrivesits about to be some trouble in nola the two of us and no supervisionwe pop out for dinner come back in giggling as usual and we see ita hugh flying roach  im freaked out  i literally walk right out of the room down to the front desk  i cannot they tell me theyre sending a maintenance worker to handle it  not good enough if theres one thats bold enough to show itself he has other cohorts that prefer to live behind the scenes they give us another room but tell me they cant do more until 8am  no the room the move us too also has small spiders and other dead small bugs in the corners of the window the tv doesnt work and one of the lamps doesnt have bulbs in it come on  at this point its about 3am and i know im not staying here past 815am i dont want to sit my purse let alone my luggage in this hotel i go online to my normal go to hotel the w and book us there for the rest of the trip 8am comes and goes no manager comes to our room i go down and demand to see someone immediately  this younger gentlemen comes out and apologizes  i thank him for his apology and politely request all of my money back immediately   he obliged and asked if  i would consider coming back after changes have been made bless his heart no dear</td>\n",
       "      <td>0.9679</td>\n",
       "      <td>0.078</td>\n",
       "      <td>1</td>\n",
       "      <td>5</td>\n",
       "    </tr>\n",
       "    <tr>\n",
       "      <th>165</th>\n",
       "      <td>came here after my husband bought home their lemon pepper wings they have plenty of flavors ranging from ones youve heard of lemon pepper mild to new orleans flavors yaka mein noonie bird they also have their drinks the watermelon is to die for i dont know what they put in it but lord help them the location isnt the best but theyre trying to put something back in the community its in the same section with the daiquiri shop so its really not that bad during the day i probably wouldnt come at night by myself definitely give this place a try hey you might even see skip</td>\n",
       "      <td>-0.8914</td>\n",
       "      <td>0.193</td>\n",
       "      <td>4</td>\n",
       "      <td>0</td>\n",
       "    </tr>\n",
       "    <tr>\n",
       "      <th>347</th>\n",
       "      <td>dinner review\\n\\ni rarely write reviews but this honestly was one of the worst group dining experiences ive ever had it was objectively a horrible experience even without comparing it to the hype it receives and ruined what was supposed to be a nice birthday dinner celebration \\n\\nwe had a group of 8 that had a reservation made well in advance short wait but not too bad keep in mind it seemed like a normal friday night but werent super busy or atcapacity\\n\\nit was a birthday dinner so i told the hostesses that it was her birthday and asked if they could bring out something for her at the end of the meal which was acknowledged pretty standard stuff whether at a applebees or the french laundry we were sat at a booth right next to the maitre d stand and next to all the wait staffs home base so pretty much no excuse for not getting any attention \\n\\nafter getting us waters it took them a long time to even come by and acknowledge us after ordering wine it took them another good 1520 minutes to even bring us our wine and no one even checked in on us hint if youre running a restaurant wine is your profit center and doesnt take any work other than taking a bottle off a shelf and opening it bring it out asap \\n\\nafter ordering food it was more of the samea long wait for food to start coming out and no one checking in on us at all we drank the bottles we ordered and had to get up and flag someone down to get another wine order a couple of us even got up during the meal to remind them to bring out something for birthday girl at the end of the meal \\n\\nonce our meal was done and taken away we were given dessert menus and the server disappeared for 1015 minutes again after coming back he asked what dessert we wanted so we ordered some coffees and waited and waited eventually we got up and asked him what was going on and if they were going to bring anything out like we asked multiple times \\n\\nthey finally brought out a couple of cookies with a candle\\n\\nin summary the food was pretty hit or miss pretty mediocre for this price point whipped feta like other reviews have said was amazing and the braised lamb was really good but the sirloin was chewy and bland and the grilled caesar tasted like a soggy lukewarm wilted mess two orders were left untouched by a group of 8 atmosphere was nice and trendy but the service which is a huge reason to spend your hardearned  at a restaurant was absolutely horrendous \\n\\ni really love going to cool popular restaurants and having a great time and i hate writing such a negative review but i had to share my experience especially for a restaurant that is getting an awful lot of undeserved hype</td>\n",
       "      <td>0.9609</td>\n",
       "      <td>0.131</td>\n",
       "      <td>1</td>\n",
       "      <td>5</td>\n",
       "    </tr>\n",
       "    <tr>\n",
       "      <th>387</th>\n",
       "      <td>new owners turned it into a double threat bad food and bad service shame i loved this place</td>\n",
       "      <td>-0.8625</td>\n",
       "      <td>0.553</td>\n",
       "      <td>4</td>\n",
       "      <td>0</td>\n",
       "    </tr>\n",
       "    <tr>\n",
       "      <th>...</th>\n",
       "      <td>...</td>\n",
       "      <td>...</td>\n",
       "      <td>...</td>\n",
       "      <td>...</td>\n",
       "      <td>...</td>\n",
       "    </tr>\n",
       "    <tr>\n",
       "      <th>9703</th>\n",
       "      <td>my name is angela s and i have a froyo problem no really i dont even like it that much yet i continue to go to all of these stupid frozen yogurt joints like some dairycrazed masochist and eat 417 worth of disappointment at a time \\n\\nand then came tutti frutti \\n\\nits good its a little different the toppings are just soso but the yogurt itself is really good they have interesting flavors including taro if you havent tried something taro flavored tutti frutti is a good place to start it doesnt even need toppings \\n\\nwith so many froyo places in stl its rare that ive visited the same one twice but tutti frutti could become a standby</td>\n",
       "      <td>-0.5103</td>\n",
       "      <td>0.202</td>\n",
       "      <td>4</td>\n",
       "      <td>0</td>\n",
       "    </tr>\n",
       "    <tr>\n",
       "      <th>9748</th>\n",
       "      <td>what miserable customer service \\n\\nwe went here as part of a special event for families of autistic children while i commend the owners for reaching out to people with special needs the way they handle themselves behind the counter is sickening \\n\\nwhen we got there we found out that the entire inside of the park was closed something that was not mentioned anywhere in their press release not on their own website either despite their insistence that it was so all the autistic kids were confined to a wave pool and two smaller areas which was far from adequate for this particular crowd  when i complained to the manager dan he was clearly overwhelmed by the situation and had no answers to give regarding why it was never stated that most of the facility was off limits but at least he was polite unlike brandon \\n\\nbrandon another assistant manager interjected himself unasked in our conversation and interrupted me at every sentence i guess if the customer cant finish a sentence it doesnt count as a complaint even when i asked him to let me speak he kept talking over me great managerial technique there \\n\\nhe offered to refund our tickets but only if we left right then while we had no problem leaving there were a lot of families whose children took a lot effort to move either because of physical or developmental disabilities had either of them offered refunds at our leisure as a sign of good faith we would have stayed and spent more than the cost of the tickets on the insanely over priced food 12 for a basket of chicken fingers is utterly ridiculous plus guaranteed our return another time as it is theyve lost our business permanently \\n\\nif you choose to go here i hope you have fun just dont go expecting resolutions to any problems you might have because apparently they dont know the first thing about customer service</td>\n",
       "      <td>0.8859</td>\n",
       "      <td>0.116</td>\n",
       "      <td>1</td>\n",
       "      <td>5</td>\n",
       "    </tr>\n",
       "    <tr>\n",
       "      <th>9845</th>\n",
       "      <td>i know that pi is a popular place and that it gets packed in the loop especially on friday and saturday nights  since they dont take reservations for 2 people and being the smart yelper that i am i called first to check on the wait  they said that by the time i came in there would be no wait especially because the concert at the pageant was about to start  so the bf and i headed down there 10 min later and he dropped me off so i wouldnt have to walk in the cold what a gentleman  i walked in and the snooty hostesses told me there was a 40 min wait  um there is no way all of those people just showed up in 10 min  clearly someone fudged the truth to get me to come in  and there wasnt a single seat or place to stand in the bar or the tiny waiting area  i tried to call him to tell him not to park and walk down he would probably have to walk pretty far but he wasnt paying attention to his phone so he never got the message   he walked in took one look and i knew we were both on the same page  i politely told the hostesses that they could cross off our name and then waited by the door while he pulled the car around  they proceeded to stare at me very obviously and whisper during this time until i left which  is bad business whether youre a catty hostess that still thinks she is in high school or maybe still is or a hostess raving about how fabulous my outfit is  either way girls its rude\\n\\ndont get me wrongthe pizza here is good  but its no mystic pizza  and it isnt the only pizza place around  this story has a happy ending though  we went to deweys were promptly seated experienced the best service there as we always do and left with full bellies probably way before we wouldve even gotten our pizza at pi \\n\\nnever again</td>\n",
       "      <td>0.9441</td>\n",
       "      <td>0.050</td>\n",
       "      <td>1</td>\n",
       "      <td>5</td>\n",
       "    </tr>\n",
       "    <tr>\n",
       "      <th>9853</th>\n",
       "      <td>im not sure what happened here but this place went downhill fast i just had a pizza steak and chicken parm sandwich that were a step above edible seriously im still trying to get the taste of the pizza steak out of my mouth the only thing worse than being excited for a steak sandwich and having it suck is being excited for wings and having them forget to send the damn blue cheese really come on i can honestly say that based on this experience i would never go back \\n\\nfirst review great food and friendly service we had an italian hoagie and cheesesteak hoagie and hot wings all were fantastic the rolls are soft and fresh they were full of delicious meat the wings were large and the hot sauce is the best ive had in the area ill be back for sure</td>\n",
       "      <td>0.9622</td>\n",
       "      <td>0.148</td>\n",
       "      <td>1</td>\n",
       "      <td>5</td>\n",
       "    </tr>\n",
       "    <tr>\n",
       "      <th>9924</th>\n",
       "      <td>my girlfriend and i decided to try kalamatas last night at around 730 the guy at the counter asked us if were ready to order even before we had the chance to look at the menu properly not once but multiple times \\n\\nwe ordered 2 lamb gyros a side order of roasted potatoes and the tabouleh the potatoes came out extremely fast and were lukewarm at best either they were premade and microwaved to order or were just sitting on a hot plate not something id expect from any restaurant \\n\\nthe tabouleh was sour  like salad dunked in a bottle of fish sauce sour we decided to tell the guy upfront our issues with the tabouleh but all we got out of him was this is our recipe this is the way we make it its fine if you dont like it but this is how we make it i agree i have no idea what authentic tabouleh tastes like or how to make it but i have tasted good tabouleh in the past and this was far from it i pity the people whove eaten tabouleh only at this establishment because theyre really missing out \\n\\nthe gyros were pedestrian at best underseasoned and most of all undersauced the veggies were on one side of the pita the meat on the other  so youd never get a mouthful of veggiesmeat and only one side of the pocket had the sauce suspecting another this is how we sauce our gyros this is our recipe moment we decided to finish our food asap\\n\\nfinally the worst offense was that the guy starts closing up shop while were still eating really ive no idea how this place got 4 stars on yelp but there are way better restaurants in nashville for mediterranean food</td>\n",
       "      <td>0.8891</td>\n",
       "      <td>0.109</td>\n",
       "      <td>1</td>\n",
       "      <td>5</td>\n",
       "    </tr>\n",
       "  </tbody>\n",
       "</table>\n",
       "<p>191 rows × 5 columns</p>\n",
       "</div>"
      ],
      "text/plain": [
       "                                                                                                                                                                                                                                                                                                                                                                                                                                                                                                                                                                                                                                                                                                                                                                                                                                                                                                                                                                                                                                                                                                                                                                                                                                                                                                                                                                                                                                                                                                                                                                                                                                                                                                                                                                                                                                                                                                                                                                                                                                                                                                                                                                                                                                                                                                                                                                                                                                                                                                                                                                                                                                                                                                                                                                   text  \\\n",
       "47                                                                                                                                                                                                                                                                                                                                                                                                                                                                                                                                                                                                                                                                                                                                                                                                                                                                                                                                                                                                                                                                                                                                                                                                                                                                                                                                                                                                                                                                                                                                                                                                                                                                                                                                         if you want to pay for everything a la carte this is the place for you  \\nfood wasnt terrible not impressive\\nthey brought a basket of chips and some tomato sauce which i asked politely for something spicier and some pico de gallo  she brought them happily to me and the salsa was much better  when asked what we would like to drink i asked for a coke and she brought out a bottle which i stated i wanted the fountain drink  she said oh thats only pepsi  never mentioned that they only had bottle drinks for coke  \\nwe ordered our food which was reasonably priced asked for sour cream and also to put cheese on the taco  she let us know cheese was extra  \\nit was 250 extra for another basket of chips  \\nwhen i received the bill we paid more for the condiments then the actual food  side of sour cream 200 pico de gallo 250 salsa 200 chips 250 cheese 100 and the bottled coke that we didnt want 500  \\njust a suggestionwhen you order anything make sure to ask if there is an extra charge   \n",
       "122                                                                                                                                                                                                                                                                                                                                                                                                                                                                                                                                                                                                                                                                                                                                                                                                                                                                   we stayed at the saint last year for a girls trip the lobby is lovely they have a cool bar and restaurant that you cant help but to ohh and ahh over when you walk in  all the things im accustomed too when i stay at a hotel anywhereambiance a little sexy but not overkill everyone is so friendly etc  im thinking oh shhhh this is going to be a great weekend  i checked in a few hours before my girl arrived because i had a ton of work i needed to do so i set up my laptop ordered some room service and worked for about 4 hours straight left out to buy a bottle and get a manipedi  my girl arrivesits about to be some trouble in nola the two of us and no supervisionwe pop out for dinner come back in giggling as usual and we see ita hugh flying roach  im freaked out  i literally walk right out of the room down to the front desk  i cannot they tell me theyre sending a maintenance worker to handle it  not good enough if theres one thats bold enough to show itself he has other cohorts that prefer to live behind the scenes they give us another room but tell me they cant do more until 8am  no the room the move us too also has small spiders and other dead small bugs in the corners of the window the tv doesnt work and one of the lamps doesnt have bulbs in it come on  at this point its about 3am and i know im not staying here past 815am i dont want to sit my purse let alone my luggage in this hotel i go online to my normal go to hotel the w and book us there for the rest of the trip 8am comes and goes no manager comes to our room i go down and demand to see someone immediately  this younger gentlemen comes out and apologizes  i thank him for his apology and politely request all of my money back immediately   he obliged and asked if  i would consider coming back after changes have been made bless his heart no dear   \n",
       "165                                                                                                                                                                                                                                                                                                                                                                                                                                                                                                                                                                                                                                                                                                                                                                                                                                                                                                                                                                                                                                                                                                                                                                                                                                                                                                                                                                                                                                                                                                                                                                                                                                                                                                                                                                                                                                                                                                                                                                                                                                                                                                                                                                        came here after my husband bought home their lemon pepper wings they have plenty of flavors ranging from ones youve heard of lemon pepper mild to new orleans flavors yaka mein noonie bird they also have their drinks the watermelon is to die for i dont know what they put in it but lord help them the location isnt the best but theyre trying to put something back in the community its in the same section with the daiquiri shop so its really not that bad during the day i probably wouldnt come at night by myself definitely give this place a try hey you might even see skip   \n",
       "347   dinner review\\n\\ni rarely write reviews but this honestly was one of the worst group dining experiences ive ever had it was objectively a horrible experience even without comparing it to the hype it receives and ruined what was supposed to be a nice birthday dinner celebration \\n\\nwe had a group of 8 that had a reservation made well in advance short wait but not too bad keep in mind it seemed like a normal friday night but werent super busy or atcapacity\\n\\nit was a birthday dinner so i told the hostesses that it was her birthday and asked if they could bring out something for her at the end of the meal which was acknowledged pretty standard stuff whether at a applebees or the french laundry we were sat at a booth right next to the maitre d stand and next to all the wait staffs home base so pretty much no excuse for not getting any attention \\n\\nafter getting us waters it took them a long time to even come by and acknowledge us after ordering wine it took them another good 1520 minutes to even bring us our wine and no one even checked in on us hint if youre running a restaurant wine is your profit center and doesnt take any work other than taking a bottle off a shelf and opening it bring it out asap \\n\\nafter ordering food it was more of the samea long wait for food to start coming out and no one checking in on us at all we drank the bottles we ordered and had to get up and flag someone down to get another wine order a couple of us even got up during the meal to remind them to bring out something for birthday girl at the end of the meal \\n\\nonce our meal was done and taken away we were given dessert menus and the server disappeared for 1015 minutes again after coming back he asked what dessert we wanted so we ordered some coffees and waited and waited eventually we got up and asked him what was going on and if they were going to bring anything out like we asked multiple times \\n\\nthey finally brought out a couple of cookies with a candle\\n\\nin summary the food was pretty hit or miss pretty mediocre for this price point whipped feta like other reviews have said was amazing and the braised lamb was really good but the sirloin was chewy and bland and the grilled caesar tasted like a soggy lukewarm wilted mess two orders were left untouched by a group of 8 atmosphere was nice and trendy but the service which is a huge reason to spend your hardearned  at a restaurant was absolutely horrendous \\n\\ni really love going to cool popular restaurants and having a great time and i hate writing such a negative review but i had to share my experience especially for a restaurant that is getting an awful lot of undeserved hype   \n",
       "387                                                                                                                                                                                                                                                                                                                                                                                                                                                                                                                                                                                                                                                                                                                                                                                                                                                                                                                                                                                                                                                                                                                                                                                                                                                                                                                                                                                                                                                                                                                                                                                                                                                                                                                                                                                                                                                                                                                                                                                                                                                                                                                                                                                                                                                                                                                                                                                                                                                                                                                                                                                                                                                                         new owners turned it into a double threat bad food and bad service shame i loved this place   \n",
       "...                                                                                                                                                                                                                                                                                                                                                                                                                                                                                                                                                                                                                                                                                                                                                                                                                                                                                                                                                                                                                                                                                                                                                                                                                                                                                                                                                                                                                                                                                                                                                                                                                                                                                                                                                                                                                                                                                                                                                                                                                                                                                                                                                                                                                                                                                                                                                                                                                                                                                                                                                                                                                                                                                                                                                                 ...   \n",
       "9703                                                                                                                                                                                                                                                                                                                                                                                                                                                                                                                                                                                                                                                                                                                                                                                                                                                                                                                                                                                                                                                                                                                                                                                                                                                                                                                                                                                                                                                                                                                                                                                                                                                                                                                                                                                                                                                                                                                                                                                                                                                                                                     my name is angela s and i have a froyo problem no really i dont even like it that much yet i continue to go to all of these stupid frozen yogurt joints like some dairycrazed masochist and eat 417 worth of disappointment at a time \\n\\nand then came tutti frutti \\n\\nits good its a little different the toppings are just soso but the yogurt itself is really good they have interesting flavors including taro if you havent tried something taro flavored tutti frutti is a good place to start it doesnt even need toppings \\n\\nwith so many froyo places in stl its rare that ive visited the same one twice but tutti frutti could become a standby   \n",
       "9748                                                                                                                                                                                                                                                                                                                                                                                                                                                                                                                                                                                                                                                                                                                                                                                                                                                 what miserable customer service \\n\\nwe went here as part of a special event for families of autistic children while i commend the owners for reaching out to people with special needs the way they handle themselves behind the counter is sickening \\n\\nwhen we got there we found out that the entire inside of the park was closed something that was not mentioned anywhere in their press release not on their own website either despite their insistence that it was so all the autistic kids were confined to a wave pool and two smaller areas which was far from adequate for this particular crowd  when i complained to the manager dan he was clearly overwhelmed by the situation and had no answers to give regarding why it was never stated that most of the facility was off limits but at least he was polite unlike brandon \\n\\nbrandon another assistant manager interjected himself unasked in our conversation and interrupted me at every sentence i guess if the customer cant finish a sentence it doesnt count as a complaint even when i asked him to let me speak he kept talking over me great managerial technique there \\n\\nhe offered to refund our tickets but only if we left right then while we had no problem leaving there were a lot of families whose children took a lot effort to move either because of physical or developmental disabilities had either of them offered refunds at our leisure as a sign of good faith we would have stayed and spent more than the cost of the tickets on the insanely over priced food 12 for a basket of chicken fingers is utterly ridiculous plus guaranteed our return another time as it is theyve lost our business permanently \\n\\nif you choose to go here i hope you have fun just dont go expecting resolutions to any problems you might have because apparently they dont know the first thing about customer service   \n",
       "9845                                                                                                                                                                                                                                                                                                                                                                                                                                                                                                                                                                                                                                                                                                                                                                                                                                                                                                                                                     i know that pi is a popular place and that it gets packed in the loop especially on friday and saturday nights  since they dont take reservations for 2 people and being the smart yelper that i am i called first to check on the wait  they said that by the time i came in there would be no wait especially because the concert at the pageant was about to start  so the bf and i headed down there 10 min later and he dropped me off so i wouldnt have to walk in the cold what a gentleman  i walked in and the snooty hostesses told me there was a 40 min wait  um there is no way all of those people just showed up in 10 min  clearly someone fudged the truth to get me to come in  and there wasnt a single seat or place to stand in the bar or the tiny waiting area  i tried to call him to tell him not to park and walk down he would probably have to walk pretty far but he wasnt paying attention to his phone so he never got the message   he walked in took one look and i knew we were both on the same page  i politely told the hostesses that they could cross off our name and then waited by the door while he pulled the car around  they proceeded to stare at me very obviously and whisper during this time until i left which  is bad business whether youre a catty hostess that still thinks she is in high school or maybe still is or a hostess raving about how fabulous my outfit is  either way girls its rude\\n\\ndont get me wrongthe pizza here is good  but its no mystic pizza  and it isnt the only pizza place around  this story has a happy ending though  we went to deweys were promptly seated experienced the best service there as we always do and left with full bellies probably way before we wouldve even gotten our pizza at pi \\n\\nnever again   \n",
       "9853                                                                                                                                                                                                                                                                                                                                                                                                                                                                                                                                                                                                                                                                                                                                                                                                                                                                                                                                                                                                                                                                                                                                                                                                                                                                                                                                                                                                                                                                                                                                                                                                                                                                                                                                                                                                                                                                                                                                                                                   im not sure what happened here but this place went downhill fast i just had a pizza steak and chicken parm sandwich that were a step above edible seriously im still trying to get the taste of the pizza steak out of my mouth the only thing worse than being excited for a steak sandwich and having it suck is being excited for wings and having them forget to send the damn blue cheese really come on i can honestly say that based on this experience i would never go back \\n\\nfirst review great food and friendly service we had an italian hoagie and cheesesteak hoagie and hot wings all were fantastic the rolls are soft and fresh they were full of delicious meat the wings were large and the hot sauce is the best ive had in the area ill be back for sure   \n",
       "9924                                                                                                                                                                                                                                                                                                                                                                                                                                                                                                                                                                                                                                                                                                                                                                                                                                                                                                                                                                                                                                                                                                                                       my girlfriend and i decided to try kalamatas last night at around 730 the guy at the counter asked us if were ready to order even before we had the chance to look at the menu properly not once but multiple times \\n\\nwe ordered 2 lamb gyros a side order of roasted potatoes and the tabouleh the potatoes came out extremely fast and were lukewarm at best either they were premade and microwaved to order or were just sitting on a hot plate not something id expect from any restaurant \\n\\nthe tabouleh was sour  like salad dunked in a bottle of fish sauce sour we decided to tell the guy upfront our issues with the tabouleh but all we got out of him was this is our recipe this is the way we make it its fine if you dont like it but this is how we make it i agree i have no idea what authentic tabouleh tastes like or how to make it but i have tasted good tabouleh in the past and this was far from it i pity the people whove eaten tabouleh only at this establishment because theyre really missing out \\n\\nthe gyros were pedestrian at best underseasoned and most of all undersauced the veggies were on one side of the pita the meat on the other  so youd never get a mouthful of veggiesmeat and only one side of the pocket had the sauce suspecting another this is how we sauce our gyros this is our recipe moment we decided to finish our food asap\\n\\nfinally the worst offense was that the guy starts closing up shop while were still eating really ive no idea how this place got 4 stars on yelp but there are way better restaurants in nashville for mediterranean food   \n",
       "\n",
       "      compound_polarity  negativity  stars  star_prediction  \n",
       "47               0.8847       0.037      1                5  \n",
       "122              0.9679       0.078      1                5  \n",
       "165             -0.8914       0.193      4                0  \n",
       "347              0.9609       0.131      1                5  \n",
       "387             -0.8625       0.553      4                0  \n",
       "...                 ...         ...    ...              ...  \n",
       "9703            -0.5103       0.202      4                0  \n",
       "9748             0.8859       0.116      1                5  \n",
       "9845             0.9441       0.050      1                5  \n",
       "9853             0.9622       0.148      1                5  \n",
       "9924             0.8891       0.109      1                5  \n",
       "\n",
       "[191 rows x 5 columns]"
      ]
     },
     "execution_count": 187,
     "metadata": {},
     "output_type": "execute_result"
    }
   ],
   "source": [
    "bad_preds[['text', 'compound_polarity', 'negativity', 'stars', 'star_prediction']]"
   ]
  },
  {
   "cell_type": "code",
   "execution_count": null,
   "id": "566606bc-5664-4da1-a898-c3589a9704f2",
   "metadata": {},
   "outputs": [],
   "source": []
  }
 ],
 "metadata": {
  "kernelspec": {
   "display_name": "Python 3 (ipykernel)",
   "language": "python",
   "name": "python3"
  },
  "language_info": {
   "codemirror_mode": {
    "name": "ipython",
    "version": 3
   },
   "file_extension": ".py",
   "mimetype": "text/x-python",
   "name": "python",
   "nbconvert_exporter": "python",
   "pygments_lexer": "ipython3",
   "version": "3.11.5"
  }
 },
 "nbformat": 4,
 "nbformat_minor": 5
}
