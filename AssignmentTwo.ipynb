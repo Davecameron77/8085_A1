{
 "cells": [
  {
   "cell_type": "markdown",
   "id": "76682c21-1b21-49c2-a482-3061cbb93697",
   "metadata": {},
   "source": [
    "# Imports"
   ]
  },
  {
   "cell_type": "code",
   "execution_count": 30,
   "id": "bb1ffbd5-8f30-42ff-be0b-bbf4e0d41704",
   "metadata": {},
   "outputs": [],
   "source": [
    "import string\n",
    "import numpy as np\n",
    "import pandas as pd\n",
    "from sklearn.ensemble import RandomForestClassifier\n",
    "from sklearn.model_selection import train_test_split\n",
    "from sklearn.naive_bayes import GaussianNB, MultinomialNB\n",
    "from sklearn.multioutput import MultiOutputRegressor, MultiOutputClassifier\n",
    "from sklearn.impute import SimpleImputer\n",
    "from sklearn.feature_extraction.text import TfidfVectorizer\n",
    "from sklearn.metrics import accuracy_score, classification_report, confusion_matrix\n",
    "from sklearn.feature_extraction.text import CountVectorizer"
   ]
  },
  {
   "cell_type": "markdown",
   "id": "d98e0271-b4a8-4e3b-b134-c91044a6ba15",
   "metadata": {},
   "source": [
    "## Load dataset"
   ]
  },
  {
   "cell_type": "code",
   "execution_count": 34,
   "id": "52efa773-1057-4c30-a5b5-bcd688670033",
   "metadata": {},
   "outputs": [],
   "source": [
    "# business = pd.read_json('yelp_academic_dataset_business.json', lines=True)\n",
    "# checkin = pd.read_json('yelp_academic_dataset_checkin.json', lines=True)\n",
    "# tip = pd.read_json('yelp_academic_dataset_tip.json', lines=True)\n",
    "# user = pd.read_json('yelp_academic_dataset_user.json', lines=True)\n",
    "\n",
    "df = pd.read_json('yelp_academic_dataset_review.json', lines=True)"
   ]
  },
  {
   "cell_type": "markdown",
   "id": "f6887873-c6e5-4fba-b139-29500718741b",
   "metadata": {},
   "source": [
    "## Select x, y"
   ]
  },
  {
   "cell_type": "code",
   "execution_count": 35,
   "id": "606ab491-ea37-493e-9298-72edc9eb7e84",
   "metadata": {},
   "outputs": [],
   "source": [
    "x = df['text']\n",
    "y = df[['stars', 'useful', 'funny', 'cool']]"
   ]
  },
  {
   "cell_type": "markdown",
   "id": "01338f11-c608-4f57-940f-aefc3c684eb6",
   "metadata": {},
   "source": [
    "## Missing Data"
   ]
  },
  {
   "cell_type": "code",
   "execution_count": 36,
   "id": "098856f1-58ae-47d6-95c9-285fd13d1ec7",
   "metadata": {},
   "outputs": [],
   "source": [
    "df = df.fillna(0)"
   ]
  },
  {
   "cell_type": "code",
   "execution_count": 37,
   "id": "26e9e7a1-e6b7-4ff9-a61f-d9ff93ab3d17",
   "metadata": {},
   "outputs": [],
   "source": [
    "def remove_punctuation(text):\n",
    "    # Using string.punctuation to get all punctuation characters\n",
    "    translator = str.maketrans('', '', string.punctuation)\n",
    "    return text.translate(translator)"
   ]
  },
  {
   "cell_type": "code",
   "execution_count": 38,
   "id": "75481dd4-9936-40be-ac14-09f249467237",
   "metadata": {},
   "outputs": [],
   "source": [
    "df['text'] = df['text'].str.lower()\n",
    "df['text'] = df['text'].apply(remove_punctuation)"
   ]
  },
  {
   "cell_type": "code",
   "execution_count": 8,
   "id": "9b2a640a-5acc-44c9-b59a-58db71951392",
   "metadata": {},
   "outputs": [],
   "source": [
    "df = df.head(5000)\n",
    "tfidf_vectorizer = TfidfVectorizer(max_features=5000)  # You can adjust max_features\n",
    "x = tfidf_vectorizer.fit_transform(df['text'])"
   ]
  },
  {
   "cell_type": "code",
   "execution_count": 23,
   "id": "972a00b4-6751-4279-ae04-ebcc2bbdbb19",
   "metadata": {},
   "outputs": [],
   "source": [
    "y = df[['stars', 'useful', 'funny', 'cool']]\n",
    "# y = df[['stars', 'useful']]"
   ]
  },
  {
   "cell_type": "markdown",
   "id": "b22fdc15-b6e4-4e2e-9015-3477b58500d0",
   "metadata": {},
   "source": [
    "## Train/Test split"
   ]
  },
  {
   "cell_type": "code",
   "execution_count": 40,
   "id": "cabe70ce-ef0c-46e4-a43b-4ab2791680ed",
   "metadata": {},
   "outputs": [],
   "source": [
    "x_train, x_test, y_train, y_test = train_test_split(x, y, test_size=0.8, random_state=0)"
   ]
  },
  {
   "cell_type": "markdown",
   "id": "dc3741ee-72bc-44da-b011-84ffdecb0050",
   "metadata": {},
   "source": [
    "## Model"
   ]
  },
  {
   "cell_type": "code",
   "execution_count": 41,
   "id": "2dca8952-b132-4e50-80b2-562fbd479808",
   "metadata": {},
   "outputs": [],
   "source": [
    "vectorizer = CountVectorizer()\n",
    "x_train_vec = vectorizer.fit_transform(x_train)\n",
    "x_test_vec = vectorizer.transform(x_test)"
   ]
  },
  {
   "cell_type": "markdown",
   "id": "cabb3700-785e-455c-9dc6-551b76d69c23",
   "metadata": {},
   "source": [
    "## Prediction"
   ]
  },
  {
   "cell_type": "code",
   "execution_count": null,
   "id": "2c8a3e13-1893-438b-9429-5485db573af3",
   "metadata": {},
   "outputs": [],
   "source": [
    "rf_classifier = RandomForestClassifier(n_jobs=-1)\n",
    "multi_output_classifier = MultiOutputClassifier(rf_classifier, n_jobs=-1)\n",
    "multi_output_classifier.fit(x_train_vec, y_train)\n",
    "\n",
    "# Make predictions\n",
    "predictions = multi_output_classifier.predict(x_test_vec)\n",
    "\n",
    "# Evaluate the model\n",
    "accuracy = accuracy_score(y_test, predictions)\n",
    "print(f\"Accuracy: {accuracy}\")\n",
    "\n",
    "# Display additional metrics (precision, recall, F1-score, etc.)\n",
    "print(classification_report(y_test, predictions))"
   ]
  },
  {
   "cell_type": "code",
   "execution_count": null,
   "id": "08019a00-8848-447e-a85c-78e9878a3bbd",
   "metadata": {},
   "outputs": [],
   "source": []
  }
 ],
 "metadata": {
  "kernelspec": {
   "display_name": "Python 3 (ipykernel)",
   "language": "python",
   "name": "python3"
  },
  "language_info": {
   "codemirror_mode": {
    "name": "ipython",
    "version": 3
   },
   "file_extension": ".py",
   "mimetype": "text/x-python",
   "name": "python",
   "nbconvert_exporter": "python",
   "pygments_lexer": "ipython3",
   "version": "3.11.5"
  }
 },
 "nbformat": 4,
 "nbformat_minor": 5
}
